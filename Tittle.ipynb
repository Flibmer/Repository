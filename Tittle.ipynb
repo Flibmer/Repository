{
 "cells": [
  {
   "cell_type": "code",
   "execution_count": 1,
   "id": "0fe90eb6",
   "metadata": {},
   "outputs": [
    {
     "name": "stdout",
     "output_type": "stream",
     "text": [
      "Hola, Mundo\n"
     ]
    }
   ],
   "source": [
    "print(\"Hola, Mundo\") "
   ]
  },
  {
   "cell_type": "code",
   "execution_count": 2,
   "id": "36261fc6",
   "metadata": {},
   "outputs": [
    {
     "name": "stdout",
     "output_type": "stream",
     "text": [
      "8\n"
     ]
    }
   ],
   "source": [
    "a = 5\n",
    "b = 3\n",
    "c = a + b\n",
    "print(c)"
   ]
  },
  {
   "cell_type": "code",
   "execution_count": 3,
   "id": "b62cb1d6",
   "metadata": {},
   "outputs": [
    {
     "data": {
      "text/plain": [
       "8"
      ]
     },
     "execution_count": 3,
     "metadata": {},
     "output_type": "execute_result"
    }
   ],
   "source": [
    "c"
   ]
  },
  {
   "cell_type": "code",
   "execution_count": 4,
   "id": "1aaa8480",
   "metadata": {},
   "outputs": [],
   "source": [
    "c?"
   ]
  },
  {
   "cell_type": "code",
   "execution_count": 5,
   "id": "018e29e4",
   "metadata": {},
   "outputs": [
    {
     "data": {
      "text/html": [
       "<div>\n",
       "<style scoped>\n",
       "    .dataframe tbody tr th:only-of-type {\n",
       "        vertical-align: middle;\n",
       "    }\n",
       "\n",
       "    .dataframe tbody tr th {\n",
       "        vertical-align: top;\n",
       "    }\n",
       "\n",
       "    .dataframe thead th {\n",
       "        text-align: right;\n",
       "    }\n",
       "</style>\n",
       "<table border=\"1\" class=\"dataframe\">\n",
       "  <thead>\n",
       "    <tr style=\"text-align: right;\">\n",
       "      <th></th>\n",
       "    </tr>\n",
       "  </thead>\n",
       "  <tbody>\n",
       "  </tbody>\n",
       "</table>\n",
       "</div>"
      ],
      "text/plain": [
       "Empty DataFrame\n",
       "Columns: []\n",
       "Index: []"
      ]
     },
     "execution_count": 5,
     "metadata": {},
     "output_type": "execute_result"
    }
   ],
   "source": [
    "import pandas as pd\n",
    "pd.DataFrame()"
   ]
  },
  {
   "cell_type": "markdown",
   "id": "eba2f481",
   "metadata": {},
   "source": [
    "# Markdown"
   ]
  },
  {
   "cell_type": "markdown",
   "id": "9de9fb46",
   "metadata": {},
   "source": [
    "## Tittle 2"
   ]
  },
  {
   "cell_type": "markdown",
   "id": "fdeba23d",
   "metadata": {},
   "source": [
    "### Tittle 3"
   ]
  },
  {
   "cell_type": "markdown",
   "id": "85399900",
   "metadata": {},
   "source": [
    "#### Tittle 4"
   ]
  },
  {
   "cell_type": "markdown",
   "id": "095c1a72",
   "metadata": {},
   "source": [
    "## Como colocar Código en Markdown\n",
    "\n",
    "Utilice `print(\"hello\")`\n",
    "\n",
    "_Negrita_\n",
    "*cursiva*\n",
    "\n",
    "`print()`"
   ]
  },
  {
   "cell_type": "markdown",
   "id": "1b007e30",
   "metadata": {},
   "source": [
    "### Lista con Markdown\n",
    "#### Ingredientes\n",
    "- Harina\n",
    "- Huevo\n",
    "- Sal\n",
    "- Agua\n",
    "* Mantequilla\n",
    "    * Marca 1\n",
    "    * Marca 2"
   ]
  },
  {
   "cell_type": "markdown",
   "id": "656f7216",
   "metadata": {},
   "source": [
    "- ir a [google](https://www.google.com)"
   ]
  },
  {
   "cell_type": "code",
   "execution_count": null,
   "id": "55bf05a2",
   "metadata": {},
   "outputs": [],
   "source": []
  }
 ],
 "metadata": {
  "kernelspec": {
   "display_name": "Python 3 (ipykernel)",
   "language": "python",
   "name": "python3"
  },
  "language_info": {
   "codemirror_mode": {
    "name": "ipython",
    "version": 3
   },
   "file_extension": ".py",
   "mimetype": "text/x-python",
   "name": "python",
   "nbconvert_exporter": "python",
   "pygments_lexer": "ipython3",
   "version": "3.9.13"
  }
 },
 "nbformat": 4,
 "nbformat_minor": 5
}
